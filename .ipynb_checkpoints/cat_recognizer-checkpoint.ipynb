{
 "cells": [
  {
   "cell_type": "code",
   "execution_count": 12,
   "metadata": {},
   "outputs": [],
   "source": [
    "import math\n",
    "import numpy as np\n",
    "import tensorflow as tf\n",
    "import matplotlib.pyplot as plt\n",
    "import h5py\n",
    "import scipy\n",
    "from lr_utils import load_dataset,predict\n",
    "#from scipy import ndimage\n",
    "from tensorflow.python.framework import ops\n",
    "\n",
    "%matplotlib inline\n",
    "np.random.seed(1)"
   ]
  },
  {
   "cell_type": "code",
   "execution_count": 13,
   "metadata": {
    "collapsed": true
   },
   "outputs": [],
   "source": [
    "#load dataset\n",
    "train_set_x_orig, train_set_y, test_set_x_orig, test_set_y, classes = load_dataset()"
   ]
  },
  {
   "cell_type": "code",
   "execution_count": 14,
   "metadata": {
    "collapsed": true
   },
   "outputs": [],
   "source": [
    "m_train = train_set_x_orig.shape[0]\n",
    "m_test = test_set_x_orig.shape[0]\n",
    "num_px = train_set_x_orig.shape[1]"
   ]
  },
  {
   "cell_type": "code",
   "execution_count": 15,
   "metadata": {},
   "outputs": [
    {
     "name": "stdout",
     "output_type": "stream",
     "text": [
      "train_set_x.shape is (12288, 209)\n",
      "train_set_y.shape is (1, 209)\n",
      "test_set_x.shape is (12288, 50)\n",
      "test_set_y.shape is (1, 50)\n"
     ]
    }
   ],
   "source": [
    "#reshape and standradize the dataset\n",
    "train_set_x_flatten = train_set_x_orig.reshape(m_train,-1).T\n",
    "test_set_x_flatten = test_set_x_orig.reshape(m_test,-1).T\n",
    "\n",
    "train_set_x = train_set_x_flatten/255.\n",
    "test_set_x = test_set_x_flatten/255.\n",
    "\n",
    "print(\"train_set_x.shape is \" + str(train_set_x.shape))\n",
    "print(\"train_set_y.shape is \" + str(train_set_y.shape))\n",
    "print(\"test_set_x.shape is \" + str(test_set_x.shape))\n",
    "print(\"test_set_y.shape is \" + str(test_set_y.shape))"
   ]
  },
  {
   "cell_type": "code",
   "execution_count": 16,
   "metadata": {
    "collapsed": true
   },
   "outputs": [],
   "source": [
    "#cost function\n",
    "def compute_cost(logits, labels):\n",
    "    \n",
    "\n",
    "    cost = tf.reduce_mean(tf.nn.sigmoid_cross_entropy_with_logits(logits = logits,labels = labels))\n",
    "    \n",
    "    return cost"
   ]
  },
  {
   "cell_type": "code",
   "execution_count": 17,
   "metadata": {
    "collapsed": true
   },
   "outputs": [],
   "source": [
    "#create placeholder in tensorflow\n",
    "def create_placeholders(n_x, n_y):\n",
    "\n",
    "    X = tf.placeholder(tf.float32,shape = (n_x,None),name = \"X\")\n",
    "    Y = tf.placeholder(tf.float32,shape= (n_y,None),name = \"Y\")\n",
    "    \n",
    "    return X, Y"
   ]
  },
  {
   "cell_type": "code",
   "execution_count": 18,
   "metadata": {
    "collapsed": true
   },
   "outputs": [],
   "source": [
    "def initialize_parameters():   \n",
    "   \n",
    "    tf.set_random_seed(1)                   # so that your \"random\" numbers match ours\n",
    "      \n",
    "    ### START CODE HERE ### (approx. 6 lines of code)\n",
    "    W1 = tf.get_variable(\"W1\",[25,12288],initializer = tf.contrib.layers.xavier_initializer(seed = 1))\n",
    "    b1 = tf.get_variable(\"b1\",[25,1],initializer = tf.zeros_initializer())\n",
    "    W2 = tf.get_variable(\"W2\",[12,25],initializer = tf.contrib.layers.xavier_initializer(seed = 1))\n",
    "    b2 = tf.get_variable(\"b2\",[12,1],initializer = tf.zeros_initializer())\n",
    "    W3 = tf.get_variable(\"W3\",[1,12],initializer = tf.contrib.layers.xavier_initializer(seed = 1))\n",
    "    b3 = tf.get_variable(\"b3\",[1,1],initializer = tf.zeros_initializer())\n",
    "\n",
    "    parameters = {\"W1\": W1,\n",
    "                  \"b1\": b1,\n",
    "                  \"W2\": W2,\n",
    "                  \"b2\": b2,\n",
    "                  \"W3\": W3,\n",
    "                  \"b3\": b3}\n",
    "    \n",
    "    return parameters"
   ]
  },
  {
   "cell_type": "code",
   "execution_count": 19,
   "metadata": {
    "collapsed": true
   },
   "outputs": [],
   "source": [
    "# GRADED FUNCTION: forward_propagation\n",
    "\n",
    "def forward_propagation(X, parameters):\n",
    "   \n",
    "    # Retrieve the parameters from the dictionary \"parameters\" \n",
    "    W1 = parameters['W1']\n",
    "    b1 = parameters['b1']\n",
    "    W2 = parameters['W2']\n",
    "    b2 = parameters['b2']\n",
    "    W3 = parameters['W3']\n",
    "    b3 = parameters['b3']\n",
    "    \n",
    "    ### START CODE HERE ### (approx. 5 lines)              # Numpy Equivalents:\n",
    "    Z1 = tf.add(tf.matmul(W1,tf.cast(X,tf.float32)),b1)\n",
    "    A1 = tf.nn.relu(Z1)\n",
    "    Z2 = tf.add(tf.matmul(W2,A1),b2)\n",
    "    A2 = tf.nn.relu(Z2)\n",
    "    Z3 = tf.add(tf.matmul(W3,A2),b3)\n",
    "    \n",
    "    \n",
    "\n",
    "    return Z3"
   ]
  },
  {
   "cell_type": "code",
   "execution_count": 20,
   "metadata": {},
   "outputs": [
    {
     "name": "stdout",
     "output_type": "stream",
     "text": [
      "Z3.shape is(1, 209)\n"
     ]
    }
   ],
   "source": [
    "tf.reset_default_graph()  \n",
    "parameters = initialize_parameters()\n",
    "Z3 = forward_propagation(train_set_x,parameters)\n",
    "#W3 = parameters['W3']\n",
    "print(\"Z3.shape is\"+ str(Z3.shape))"
   ]
  },
  {
   "cell_type": "code",
   "execution_count": 25,
   "metadata": {
    "collapsed": true
   },
   "outputs": [],
   "source": [
    "def y_train_prediction(X,parameters):\n",
    "    \n",
    "    Z3 = forward_propagation(X,parameters)\n",
    "    \n",
    "    Y_train_predictions = []\n",
    "    Y_train_prediction = 0\n",
    "    \n",
    "   \n",
    "    for i in range(209):\n",
    "        Y_train_prediction = tf.cond(Z3[0,i] > 0.5, lambda:  tf.cast( 0.0, tf.float32 ), lambda:  tf.cast(1.0, tf.float32 ))\n",
    "        Y_train_predictions.append(Y_train_prediction) \n",
    "    \n",
    "    return Y_train_predictions"
   ]
  },
  {
   "cell_type": "code",
   "execution_count": 26,
   "metadata": {
    "collapsed": true
   },
   "outputs": [],
   "source": [
    "def y_test_prediction(X,parameters):\n",
    "    \n",
    "    Z3 = forward_propagation(X,parameters)\n",
    "    \n",
    "    Y_test_predictions = []\n",
    "    Y_test_prediction = 0\n",
    "    \n",
    "   \n",
    "    for i in range(50):\n",
    "        Y_test_prediction = tf.cond(Z3[0,i] > 0.5, lambda:  tf.cast( 0.0, tf.float32 ), lambda:  tf.cast(1.0, tf.float32 ))\n",
    "        Y_test_predictions.append(Y_test_prediction) \n",
    "    \n",
    "    return Y_test_predictions"
   ]
  },
  {
   "cell_type": "code",
   "execution_count": 27,
   "metadata": {
    "collapsed": true
   },
   "outputs": [],
   "source": [
    "def model(X_train, Y_train, X_test, Y_test, learning_rate = 0.0001,num_epochs = 100, print_cost = True):\n",
    "\n",
    "    ops.reset_default_graph()                         # to be able to rerun the model without overwriting tf variables\n",
    "    tf.set_random_seed(1)                             # to keep consistent results\n",
    "    seed = 3                                          # to keep consistent results\n",
    "    (n_x, m) = X_train.shape                          # (n_x: input size, m : number of examples in the train set)\n",
    "    n_y = Y_train.shape[0]                            # n_y : output size\n",
    "    costs = []                                        # To keep track of the cost\n",
    "    \n",
    "    \n",
    "    # Create Placeholders of shape (n_x, n_y)\n",
    "    X,Y = create_placeholders(n_x,n_y)\n",
    "    \n",
    "    # Initialize parameters\n",
    "    parameters = initialize_parameters()\n",
    "\n",
    "    # Forward propagation: Build the forward propagation in the tensorflow graph\n",
    "    Z3 = forward_propagation(X,parameters)\n",
    "    \n",
    "    # Cost function: Add cost function to tensorflow graph\n",
    "    cost = compute_cost(Z3,Y)\n",
    "\n",
    "    # Backpropagation: Define the tensorflow optimizer. Use an AdamOptimizer.\n",
    "    optimizer = tf.train.AdamOptimizer(learning_rate).minimize(cost)\n",
    "    \n",
    "    \n",
    "    \n",
    "    # Initialize all the variables\n",
    "    init = tf.global_variables_initializer()\n",
    "\n",
    "    with tf.Session() as sess:\n",
    "        sess.run(init)\n",
    "        \n",
    "        for epoch in range(num_epochs):\n",
    "            epoch_cost = 0                       # Defines a cost related to an epoch\n",
    "            \n",
    "           \n",
    "            _,epoch_cost = sess.run([optimizer,cost],feed_dict = {X: X_train, Y: Y_train})\n",
    "            \n",
    "            # Print the cost every epoch\n",
    "            if print_cost == True and epoch % 100 == 0:\n",
    "                print (\"Cost after epoch %i: %f\" % (epoch, epoch_cost))\n",
    "            if print_cost == True and epoch % 5 == 0:\n",
    "                costs.append(epoch_cost)\n",
    "               \n",
    "        # plot the cost\n",
    "        plt.plot(np.squeeze(costs))\n",
    "        plt.ylabel('cost')\n",
    "        plt.xlabel('iterations (per tens)')\n",
    "        plt.title(\"Learning rate =\" + str(learning_rate))\n",
    "        plt.show()\n",
    "\n",
    "        # lets save the parameters in a variable\n",
    "        parameters = sess.run(parameters)\n",
    "        print (\"Parameters have been trained!\")\n",
    "        Y_train_predictions = y_train_prediction(X,parameters)\n",
    "        Y_test_predictions = y_test_prediction(X,parameters)\n",
    "        \n",
    "        # Calculate the correct predictions\n",
    "        train_correct_prediction = np.abs(Y_train_predictions - Y)\n",
    "        test_correct_prediction = np.abs(Y_test_predictions - Y)\n",
    "\n",
    "        # Calculate accuracy on the test set\n",
    "        train_accuracy = tf.reduce_mean(tf.cast(train_correct_prediction, \"float\"))\n",
    "        test_accuracy = tf.reduce_mean(tf.cast(test_correct_prediction, \"float\"))\n",
    "\n",
    "        print (\"Train Accuracy:\", train_accuracy.eval({X: X_train, Y: Y_train}))\n",
    "        print (\"Test Accuracy:\", test_accuracy.eval({X: X_test, Y: Y_test}))\n",
    "        \n",
    "        \n",
    "        return parameters\n",
    "        "
   ]
  },
  {
   "cell_type": "code",
   "execution_count": 28,
   "metadata": {},
   "outputs": [
    {
     "name": "stdout",
     "output_type": "stream",
     "text": [
      "Cost after epoch 0: 0.671799\n",
      "Cost after epoch 100: 0.297925\n",
      "Cost after epoch 200: 0.132741\n",
      "Cost after epoch 300: 0.064967\n",
      "Cost after epoch 400: 0.036476\n",
      "Cost after epoch 500: 0.022389\n",
      "Cost after epoch 600: 0.014781\n",
      "Cost after epoch 700: 0.010445\n",
      "Cost after epoch 800: 0.007721\n",
      "Cost after epoch 900: 0.005857\n"
     ]
    },
    {
     "data": {
      "image/png": "[encoded data removed]",
      "text/plain": [
       "<matplotlib.figure.Figure at 0x699ccc0>"
      ]
     },
     "metadata": {},
     "output_type": "display_data"
    },
    {
     "name": "stdout",
     "output_type": "stream",
     "text": [
      "Parameters have been trained!\n",
      "Train Accuracy: 1.0\n",
      "Test Accuracy: 0.66\n"
     ]
    }
   ],
   "source": [
    "parameters = model(train_set_x, train_set_y, test_set_x, test_set_y,learning_rate = 0.0001,num_epochs = 1000, print_cost = True)\n"
   ]
  },
  {
   "cell_type": "code",
   "execution_count": null,
   "metadata": {
    "collapsed": true
   },
   "outputs": [],
   "source": []
  },
  {
   "cell_type": "code",
   "execution_count": null,
   "metadata": {
    "collapsed": true
   },
   "outputs": [],
   "source": []
  }
 ],
 "metadata": {
  "kernelspec": {
   "display_name": "Python 3",
   "language": "python",
   "name": "python3"
  },
  "language_info": {
   "codemirror_mode": {
    "name": "ipython",
    "version": 3
   },
   "file_extension": ".py",
   "mimetype": "text/x-python",
   "name": "python",
   "nbconvert_exporter": "python",
   "pygments_lexer": "ipython3",
   "version": "3.6.2"
  }
 },
 "nbformat": 4,
 "nbformat_minor": 2
}
